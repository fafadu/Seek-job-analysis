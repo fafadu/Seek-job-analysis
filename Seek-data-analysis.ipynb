{
 "cells": [
  {
   "cell_type": "code",
   "execution_count": 52,
   "id": "098d89d7-7415-47c6-aced-6f9c9d6104d0",
   "metadata": {},
   "outputs": [],
   "source": [
    "import numpy as np\n",
    "import pandas as pd\n",
    "import matplotlib.pyplot as plt"
   ]
  },
  {
   "cell_type": "markdown",
   "id": "cc2549ca-8196-4120-9132-0358c3483712",
   "metadata": {},
   "source": [
    "### 1. Describe the dataset. (8 points)"
   ]
  },
  {
   "cell_type": "code",
   "execution_count": 2,
   "id": "c4f448db-90a9-41f8-8039-1fe9b07f7cb4",
   "metadata": {},
   "outputs": [
    {
     "name": "stderr",
     "output_type": "stream",
     "text": [
      "C:\\Users\\fafab\\AppData\\Local\\Temp\\ipykernel_1464\\1507164070.py:1: DtypeWarning: Columns (0,4,5,6,7) have mixed types. Specify dtype option on import or set low_memory=False.\n",
      "  df = pd.read_csv('data.csv')\n"
     ]
    }
   ],
   "source": [
    "df = pd.read_csv('data.csv')"
   ]
  },
  {
   "cell_type": "code",
   "execution_count": 3,
   "id": "620e2300-8a04-4741-8e5a-c41815d0cebf",
   "metadata": {},
   "outputs": [
    {
     "data": {
      "text/plain": [
       "Id                   object\n",
       "Title                object\n",
       "Company              object\n",
       "Date                 object\n",
       "Location             object\n",
       "Area                 object\n",
       "Classification       object\n",
       "SubClassification    object\n",
       "Requirement          object\n",
       "FullDescription      object\n",
       "LowestSalary          int64\n",
       "HighestSalary         int64\n",
       "JobType              object\n",
       "dtype: object"
      ]
     },
     "execution_count": 3,
     "metadata": {},
     "output_type": "execute_result"
    }
   ],
   "source": [
    "# Describe the dataset\n",
    "df.dtypes"
   ]
  },
  {
   "cell_type": "code",
   "execution_count": 4,
   "id": "62df6938-364b-41ae-b065-674a6c126213",
   "metadata": {},
   "outputs": [
    {
     "data": {
      "text/html": [
       "<div>\n",
       "<style scoped>\n",
       "    .dataframe tbody tr th:only-of-type {\n",
       "        vertical-align: middle;\n",
       "    }\n",
       "\n",
       "    .dataframe tbody tr th {\n",
       "        vertical-align: top;\n",
       "    }\n",
       "\n",
       "    .dataframe thead th {\n",
       "        text-align: right;\n",
       "    }\n",
       "</style>\n",
       "<table border=\"1\" class=\"dataframe\">\n",
       "  <thead>\n",
       "    <tr style=\"text-align: right;\">\n",
       "      <th></th>\n",
       "      <th>LowestSalary</th>\n",
       "      <th>HighestSalary</th>\n",
       "    </tr>\n",
       "  </thead>\n",
       "  <tbody>\n",
       "    <tr>\n",
       "      <th>count</th>\n",
       "      <td>318477.000000</td>\n",
       "      <td>318477.000000</td>\n",
       "    </tr>\n",
       "    <tr>\n",
       "      <th>mean</th>\n",
       "      <td>65.813544</td>\n",
       "      <td>114.432342</td>\n",
       "    </tr>\n",
       "    <tr>\n",
       "      <th>std</th>\n",
       "      <td>51.063125</td>\n",
       "      <td>177.594941</td>\n",
       "    </tr>\n",
       "    <tr>\n",
       "      <th>min</th>\n",
       "      <td>0.000000</td>\n",
       "      <td>30.000000</td>\n",
       "    </tr>\n",
       "    <tr>\n",
       "      <th>25%</th>\n",
       "      <td>30.000000</td>\n",
       "      <td>40.000000</td>\n",
       "    </tr>\n",
       "    <tr>\n",
       "      <th>50%</th>\n",
       "      <td>60.000000</td>\n",
       "      <td>70.000000</td>\n",
       "    </tr>\n",
       "    <tr>\n",
       "      <th>75%</th>\n",
       "      <td>100.000000</td>\n",
       "      <td>120.000000</td>\n",
       "    </tr>\n",
       "    <tr>\n",
       "      <th>max</th>\n",
       "      <td>200.000000</td>\n",
       "      <td>999.000000</td>\n",
       "    </tr>\n",
       "  </tbody>\n",
       "</table>\n",
       "</div>"
      ],
      "text/plain": [
       "        LowestSalary  HighestSalary\n",
       "count  318477.000000  318477.000000\n",
       "mean       65.813544     114.432342\n",
       "std        51.063125     177.594941\n",
       "min         0.000000      30.000000\n",
       "25%        30.000000      40.000000\n",
       "50%        60.000000      70.000000\n",
       "75%       100.000000     120.000000\n",
       "max       200.000000     999.000000"
      ]
     },
     "execution_count": 4,
     "metadata": {},
     "output_type": "execute_result"
    }
   ],
   "source": [
    "df.describe()"
   ]
  },
  {
   "cell_type": "code",
   "execution_count": 5,
   "id": "fd0ca405-37f4-4a45-8b5d-7d23c52b6a0c",
   "metadata": {},
   "outputs": [
    {
     "data": {
      "text/html": [
       "<div>\n",
       "<style scoped>\n",
       "    .dataframe tbody tr th:only-of-type {\n",
       "        vertical-align: middle;\n",
       "    }\n",
       "\n",
       "    .dataframe tbody tr th {\n",
       "        vertical-align: top;\n",
       "    }\n",
       "\n",
       "    .dataframe thead th {\n",
       "        text-align: right;\n",
       "    }\n",
       "</style>\n",
       "<table border=\"1\" class=\"dataframe\">\n",
       "  <thead>\n",
       "    <tr style=\"text-align: right;\">\n",
       "      <th></th>\n",
       "      <th>Id</th>\n",
       "      <th>Title</th>\n",
       "      <th>Company</th>\n",
       "      <th>Date</th>\n",
       "      <th>Location</th>\n",
       "      <th>Area</th>\n",
       "      <th>Classification</th>\n",
       "      <th>SubClassification</th>\n",
       "      <th>Requirement</th>\n",
       "      <th>FullDescription</th>\n",
       "      <th>LowestSalary</th>\n",
       "      <th>HighestSalary</th>\n",
       "      <th>JobType</th>\n",
       "    </tr>\n",
       "  </thead>\n",
       "  <tbody>\n",
       "    <tr>\n",
       "      <th>0</th>\n",
       "      <td>37404348</td>\n",
       "      <td>Casual Stock Replenisher</td>\n",
       "      <td>Aldi Stores</td>\n",
       "      <td>2018-10-07T00:00:00.000Z</td>\n",
       "      <td>Sydney</td>\n",
       "      <td>North West &amp; Hills District</td>\n",
       "      <td>Retail &amp; Consumer Products</td>\n",
       "      <td>Retail Assistants</td>\n",
       "      <td>Our Casual Stock Replenishers pride themselves...</td>\n",
       "      <td>NaN</td>\n",
       "      <td>0</td>\n",
       "      <td>30</td>\n",
       "      <td>NaN</td>\n",
       "    </tr>\n",
       "    <tr>\n",
       "      <th>1</th>\n",
       "      <td>37404337</td>\n",
       "      <td>Casual Stock Replenisher</td>\n",
       "      <td>Aldi Stores</td>\n",
       "      <td>2018-10-07T00:00:00.000Z</td>\n",
       "      <td>Richmond &amp; Hawkesbury</td>\n",
       "      <td>NaN</td>\n",
       "      <td>Retail &amp; Consumer Products</td>\n",
       "      <td>Retail Assistants</td>\n",
       "      <td>Our Casual Stock Replenishers pride themselves...</td>\n",
       "      <td>NaN</td>\n",
       "      <td>0</td>\n",
       "      <td>30</td>\n",
       "      <td>NaN</td>\n",
       "    </tr>\n",
       "    <tr>\n",
       "      <th>2</th>\n",
       "      <td>37404356</td>\n",
       "      <td>RETAIL SALES SUPERSTARS and STYLISTS Wanted - ...</td>\n",
       "      <td>LB Creative Pty Ltd</td>\n",
       "      <td>2018-10-07T00:00:00.000Z</td>\n",
       "      <td>Brisbane</td>\n",
       "      <td>CBD &amp; Inner Suburbs</td>\n",
       "      <td>Retail &amp; Consumer Products</td>\n",
       "      <td>Retail Assistants</td>\n",
       "      <td>BRAND NEW FLAGSHIP STORE OPENING - SUNSHINE PLAZA</td>\n",
       "      <td>NaN</td>\n",
       "      <td>0</td>\n",
       "      <td>30</td>\n",
       "      <td>NaN</td>\n",
       "    </tr>\n",
       "    <tr>\n",
       "      <th>3</th>\n",
       "      <td>37404330</td>\n",
       "      <td>Team member - Belrose</td>\n",
       "      <td>Anaconda Group Pty Ltd</td>\n",
       "      <td>2018-10-07T00:00:00.000Z</td>\n",
       "      <td>Gosford &amp; Central Coast</td>\n",
       "      <td>NaN</td>\n",
       "      <td>Retail &amp; Consumer Products</td>\n",
       "      <td>Retail Assistants</td>\n",
       "      <td>Bring it on - do you love the great outdoors a...</td>\n",
       "      <td>NaN</td>\n",
       "      <td>0</td>\n",
       "      <td>30</td>\n",
       "      <td>NaN</td>\n",
       "    </tr>\n",
       "    <tr>\n",
       "      <th>4</th>\n",
       "      <td>37404308</td>\n",
       "      <td>Business Banking Contact Centre Specialist, Ni...</td>\n",
       "      <td>Commonwealth Bank - Business &amp; Private Banking</td>\n",
       "      <td>2018-10-07T00:00:00.000Z</td>\n",
       "      <td>Sydney</td>\n",
       "      <td>Ryde &amp; Macquarie Park</td>\n",
       "      <td>Call Centre &amp; Customer Service</td>\n",
       "      <td>Sales - Inbound</td>\n",
       "      <td>We are seeking highly articulate, enthusiastic...</td>\n",
       "      <td>NaN</td>\n",
       "      <td>0</td>\n",
       "      <td>30</td>\n",
       "      <td>NaN</td>\n",
       "    </tr>\n",
       "    <tr>\n",
       "      <th>5</th>\n",
       "      <td>37404307</td>\n",
       "      <td>Business Banking Contact Centre Specialist, Ni...</td>\n",
       "      <td>Commonwealth Bank - Business &amp; Private Banking</td>\n",
       "      <td>2018-10-07T00:00:00.000Z</td>\n",
       "      <td>Sydney</td>\n",
       "      <td>Ryde &amp; Macquarie Park</td>\n",
       "      <td>Call Centre &amp; Customer Service</td>\n",
       "      <td>Customer Service - Call Centre</td>\n",
       "      <td>We are seeking highly articulate, enthusiastic...</td>\n",
       "      <td>NaN</td>\n",
       "      <td>0</td>\n",
       "      <td>30</td>\n",
       "      <td>NaN</td>\n",
       "    </tr>\n",
       "    <tr>\n",
       "      <th>6</th>\n",
       "      <td>37404355</td>\n",
       "      <td>Casual Café All-rounder in Semaphore</td>\n",
       "      <td>Jora Local</td>\n",
       "      <td>2018-10-07T00:00:00.000Z</td>\n",
       "      <td>Adelaide</td>\n",
       "      <td>NaN</td>\n",
       "      <td>Hospitality &amp; Tourism</td>\n",
       "      <td>Waiting Staff</td>\n",
       "      <td>A cafe/restaurant in Semaphore is seeking a ca...</td>\n",
       "      <td>NaN</td>\n",
       "      <td>0</td>\n",
       "      <td>30</td>\n",
       "      <td>NaN</td>\n",
       "    </tr>\n",
       "    <tr>\n",
       "      <th>7</th>\n",
       "      <td>37404350</td>\n",
       "      <td>Casual Café All-rounder in Woolloongabba</td>\n",
       "      <td>Jora Local</td>\n",
       "      <td>2018-10-07T00:00:00.000Z</td>\n",
       "      <td>Brisbane</td>\n",
       "      <td>CBD &amp; Inner Suburbs</td>\n",
       "      <td>Hospitality &amp; Tourism</td>\n",
       "      <td>Waiting Staff</td>\n",
       "      <td>A cafe in Woolloongabba is seeking a casual Ca...</td>\n",
       "      <td>NaN</td>\n",
       "      <td>0</td>\n",
       "      <td>30</td>\n",
       "      <td>NaN</td>\n",
       "    </tr>\n",
       "    <tr>\n",
       "      <th>8</th>\n",
       "      <td>37404301</td>\n",
       "      <td>Telemarketer</td>\n",
       "      <td>Reventon Investments</td>\n",
       "      <td>2018-10-07T00:00:00.000Z</td>\n",
       "      <td>Melbourne</td>\n",
       "      <td>CBD &amp; Inner Suburbs</td>\n",
       "      <td>Call Centre &amp; Customer Service</td>\n",
       "      <td>Sales - Outbound</td>\n",
       "      <td>Market leading investment &amp; financial services...</td>\n",
       "      <td>NaN</td>\n",
       "      <td>0</td>\n",
       "      <td>30</td>\n",
       "      <td>NaN</td>\n",
       "    </tr>\n",
       "    <tr>\n",
       "      <th>9</th>\n",
       "      <td>37404286</td>\n",
       "      <td>Casual Dish Hand in Brighton</td>\n",
       "      <td>Jora Local</td>\n",
       "      <td>2018-10-07T00:00:00.000Z</td>\n",
       "      <td>Melbourne</td>\n",
       "      <td>Bayside &amp; South Eastern Suburbs</td>\n",
       "      <td>Hospitality &amp; Tourism</td>\n",
       "      <td>Kitchen &amp; Sandwich Hands</td>\n",
       "      <td>A restaurant in Brighton is seeking a casual D...</td>\n",
       "      <td>NaN</td>\n",
       "      <td>0</td>\n",
       "      <td>30</td>\n",
       "      <td>NaN</td>\n",
       "    </tr>\n",
       "    <tr>\n",
       "      <th>10</th>\n",
       "      <td>37404333</td>\n",
       "      <td>Sales and Service Banking Consultant</td>\n",
       "      <td>Hays Talent Solutions</td>\n",
       "      <td>2018-10-07T00:00:00.000Z</td>\n",
       "      <td>Adelaide</td>\n",
       "      <td>NaN</td>\n",
       "      <td>Banking &amp; Financial Services</td>\n",
       "      <td>Banking - Retail/Branch</td>\n",
       "      <td>We currently have an exciting part-time opport...</td>\n",
       "      <td>NaN</td>\n",
       "      <td>0</td>\n",
       "      <td>30</td>\n",
       "      <td>NaN</td>\n",
       "    </tr>\n",
       "    <tr>\n",
       "      <th>11</th>\n",
       "      <td>37404235</td>\n",
       "      <td>Customer Service Client Nurturer</td>\n",
       "      <td>NaN</td>\n",
       "      <td>2018-10-07T00:00:00.000Z</td>\n",
       "      <td>Melbourne</td>\n",
       "      <td>CBD &amp; Inner Suburbs</td>\n",
       "      <td>Call Centre &amp; Customer Service</td>\n",
       "      <td>Customer Service - Customer Facing</td>\n",
       "      <td>Immediate start - We love our clients, it's yo...</td>\n",
       "      <td>NaN</td>\n",
       "      <td>0</td>\n",
       "      <td>30</td>\n",
       "      <td>NaN</td>\n",
       "    </tr>\n",
       "    <tr>\n",
       "      <th>12</th>\n",
       "      <td>37404341</td>\n",
       "      <td>Functions Supervisor - Perth Zoo</td>\n",
       "      <td>Mustard Catering</td>\n",
       "      <td>2018-10-07T00:00:00.000Z</td>\n",
       "      <td>Perth</td>\n",
       "      <td>NaN</td>\n",
       "      <td>Hospitality &amp; Tourism</td>\n",
       "      <td>Bar &amp; Beverage Staff</td>\n",
       "      <td>Casual Food and Beverage Supervisor</td>\n",
       "      <td>NaN</td>\n",
       "      <td>0</td>\n",
       "      <td>30</td>\n",
       "      <td>NaN</td>\n",
       "    </tr>\n",
       "    <tr>\n",
       "      <th>13</th>\n",
       "      <td>37404335</td>\n",
       "      <td>BPV_Utility All Rounders_Casual</td>\n",
       "      <td>ISS Facility Services</td>\n",
       "      <td>2018-10-07T00:00:00.000Z</td>\n",
       "      <td>Mackay &amp; Coalfields</td>\n",
       "      <td>NaN</td>\n",
       "      <td>Hospitality &amp; Tourism</td>\n",
       "      <td>Housekeeping</td>\n",
       "      <td>An exciting opportunity exists for Casual DIDO...</td>\n",
       "      <td>NaN</td>\n",
       "      <td>0</td>\n",
       "      <td>30</td>\n",
       "      <td>NaN</td>\n",
       "    </tr>\n",
       "    <tr>\n",
       "      <th>14</th>\n",
       "      <td>37404250</td>\n",
       "      <td>Casual Cleaner in Kew</td>\n",
       "      <td>Jora Local</td>\n",
       "      <td>2018-10-07T00:00:00.000Z</td>\n",
       "      <td>Melbourne</td>\n",
       "      <td>Eastern Suburbs</td>\n",
       "      <td>Hospitality &amp; Tourism</td>\n",
       "      <td>Housekeeping</td>\n",
       "      <td>A restaurant in Kew is seeking a casual Cleane...</td>\n",
       "      <td>NaN</td>\n",
       "      <td>0</td>\n",
       "      <td>30</td>\n",
       "      <td>NaN</td>\n",
       "    </tr>\n",
       "  </tbody>\n",
       "</table>\n",
       "</div>"
      ],
      "text/plain": [
       "          Id                                              Title  \\\n",
       "0   37404348                           Casual Stock Replenisher   \n",
       "1   37404337                           Casual Stock Replenisher   \n",
       "2   37404356  RETAIL SALES SUPERSTARS and STYLISTS Wanted - ...   \n",
       "3   37404330                              Team member - Belrose   \n",
       "4   37404308  Business Banking Contact Centre Specialist, Ni...   \n",
       "5   37404307  Business Banking Contact Centre Specialist, Ni...   \n",
       "6   37404355               Casual Café All-rounder in Semaphore   \n",
       "7   37404350           Casual Café All-rounder in Woolloongabba   \n",
       "8   37404301                                       Telemarketer   \n",
       "9   37404286                       Casual Dish Hand in Brighton   \n",
       "10  37404333               Sales and Service Banking Consultant   \n",
       "11  37404235                   Customer Service Client Nurturer   \n",
       "12  37404341                   Functions Supervisor - Perth Zoo   \n",
       "13  37404335                    BPV_Utility All Rounders_Casual   \n",
       "14  37404250                              Casual Cleaner in Kew   \n",
       "\n",
       "                                           Company                      Date  \\\n",
       "0                                      Aldi Stores  2018-10-07T00:00:00.000Z   \n",
       "1                                      Aldi Stores  2018-10-07T00:00:00.000Z   \n",
       "2                              LB Creative Pty Ltd  2018-10-07T00:00:00.000Z   \n",
       "3                           Anaconda Group Pty Ltd  2018-10-07T00:00:00.000Z   \n",
       "4   Commonwealth Bank - Business & Private Banking  2018-10-07T00:00:00.000Z   \n",
       "5   Commonwealth Bank - Business & Private Banking  2018-10-07T00:00:00.000Z   \n",
       "6                                       Jora Local  2018-10-07T00:00:00.000Z   \n",
       "7                                       Jora Local  2018-10-07T00:00:00.000Z   \n",
       "8                             Reventon Investments  2018-10-07T00:00:00.000Z   \n",
       "9                                       Jora Local  2018-10-07T00:00:00.000Z   \n",
       "10                           Hays Talent Solutions  2018-10-07T00:00:00.000Z   \n",
       "11                                             NaN  2018-10-07T00:00:00.000Z   \n",
       "12                                Mustard Catering  2018-10-07T00:00:00.000Z   \n",
       "13                           ISS Facility Services  2018-10-07T00:00:00.000Z   \n",
       "14                                      Jora Local  2018-10-07T00:00:00.000Z   \n",
       "\n",
       "                   Location                             Area  \\\n",
       "0                    Sydney      North West & Hills District   \n",
       "1     Richmond & Hawkesbury                              NaN   \n",
       "2                  Brisbane              CBD & Inner Suburbs   \n",
       "3   Gosford & Central Coast                              NaN   \n",
       "4                    Sydney            Ryde & Macquarie Park   \n",
       "5                    Sydney            Ryde & Macquarie Park   \n",
       "6                  Adelaide                              NaN   \n",
       "7                  Brisbane              CBD & Inner Suburbs   \n",
       "8                 Melbourne              CBD & Inner Suburbs   \n",
       "9                 Melbourne  Bayside & South Eastern Suburbs   \n",
       "10                 Adelaide                              NaN   \n",
       "11                Melbourne              CBD & Inner Suburbs   \n",
       "12                    Perth                              NaN   \n",
       "13      Mackay & Coalfields                              NaN   \n",
       "14                Melbourne                  Eastern Suburbs   \n",
       "\n",
       "                    Classification                   SubClassification  \\\n",
       "0       Retail & Consumer Products                   Retail Assistants   \n",
       "1       Retail & Consumer Products                   Retail Assistants   \n",
       "2       Retail & Consumer Products                   Retail Assistants   \n",
       "3       Retail & Consumer Products                   Retail Assistants   \n",
       "4   Call Centre & Customer Service                     Sales - Inbound   \n",
       "5   Call Centre & Customer Service      Customer Service - Call Centre   \n",
       "6            Hospitality & Tourism                       Waiting Staff   \n",
       "7            Hospitality & Tourism                       Waiting Staff   \n",
       "8   Call Centre & Customer Service                    Sales - Outbound   \n",
       "9            Hospitality & Tourism            Kitchen & Sandwich Hands   \n",
       "10    Banking & Financial Services             Banking - Retail/Branch   \n",
       "11  Call Centre & Customer Service  Customer Service - Customer Facing   \n",
       "12           Hospitality & Tourism                Bar & Beverage Staff   \n",
       "13           Hospitality & Tourism                        Housekeeping   \n",
       "14           Hospitality & Tourism                        Housekeeping   \n",
       "\n",
       "                                          Requirement FullDescription  \\\n",
       "0   Our Casual Stock Replenishers pride themselves...             NaN   \n",
       "1   Our Casual Stock Replenishers pride themselves...             NaN   \n",
       "2   BRAND NEW FLAGSHIP STORE OPENING - SUNSHINE PLAZA             NaN   \n",
       "3   Bring it on - do you love the great outdoors a...             NaN   \n",
       "4   We are seeking highly articulate, enthusiastic...             NaN   \n",
       "5   We are seeking highly articulate, enthusiastic...             NaN   \n",
       "6   A cafe/restaurant in Semaphore is seeking a ca...             NaN   \n",
       "7   A cafe in Woolloongabba is seeking a casual Ca...             NaN   \n",
       "8   Market leading investment & financial services...             NaN   \n",
       "9   A restaurant in Brighton is seeking a casual D...             NaN   \n",
       "10  We currently have an exciting part-time opport...             NaN   \n",
       "11  Immediate start - We love our clients, it's yo...             NaN   \n",
       "12                Casual Food and Beverage Supervisor             NaN   \n",
       "13  An exciting opportunity exists for Casual DIDO...             NaN   \n",
       "14  A restaurant in Kew is seeking a casual Cleane...             NaN   \n",
       "\n",
       "    LowestSalary  HighestSalary JobType  \n",
       "0              0             30     NaN  \n",
       "1              0             30     NaN  \n",
       "2              0             30     NaN  \n",
       "3              0             30     NaN  \n",
       "4              0             30     NaN  \n",
       "5              0             30     NaN  \n",
       "6              0             30     NaN  \n",
       "7              0             30     NaN  \n",
       "8              0             30     NaN  \n",
       "9              0             30     NaN  \n",
       "10             0             30     NaN  \n",
       "11             0             30     NaN  \n",
       "12             0             30     NaN  \n",
       "13             0             30     NaN  \n",
       "14             0             30     NaN  "
      ]
     },
     "execution_count": 5,
     "metadata": {},
     "output_type": "execute_result"
    }
   ],
   "source": [
    "df.head(15)"
   ]
  },
  {
   "cell_type": "code",
   "execution_count": 6,
   "id": "d54eecd4-4d2d-42d8-a443-a664239aafa5",
   "metadata": {},
   "outputs": [
    {
     "data": {
      "text/plain": [
       "Index(['Id', 'Title', 'Company', 'Date', 'Location', 'Area', 'Classification',\n",
       "       'SubClassification', 'Requirement', 'FullDescription', 'LowestSalary',\n",
       "       'HighestSalary', 'JobType'],\n",
       "      dtype='object')"
      ]
     },
     "execution_count": 6,
     "metadata": {},
     "output_type": "execute_result"
    }
   ],
   "source": [
    "df.columns"
   ]
  },
  {
   "cell_type": "code",
   "execution_count": 7,
   "id": "3176f26d-fbcd-40ce-9d34-f25ef7f70015",
   "metadata": {},
   "outputs": [
    {
     "name": "stdout",
     "output_type": "stream",
     "text": [
      "The Dataset consists of:  318477  rows and  13  columns\n"
     ]
    },
    {
     "data": {
      "text/plain": [
       "Id                                object\n",
       "Title                             object\n",
       "Company                           object\n",
       "Date                 datetime64[ns, UTC]\n",
       "Location                          object\n",
       "Area                              object\n",
       "Classification                    object\n",
       "SubClassification                 object\n",
       "Requirement                       object\n",
       "FullDescription                   object\n",
       "LowestSalary                       int64\n",
       "HighestSalary                      int64\n",
       "JobType                           object\n",
       "dtype: object"
      ]
     },
     "execution_count": 7,
     "metadata": {},
     "output_type": "execute_result"
    }
   ],
   "source": [
    "#How many records are there in the dataset? (1 point)\n",
    "df.shape #((318477, 13))\n",
    "print(\"The Dataset consists of: \",df.shape[0], \" rows and \",df.shape[1], \" columns\")\n",
    "df.describe()\n",
    "df['Date'] = pd.to_datetime(df['Date'])\n",
    "df.dtypes"
   ]
  },
  {
   "cell_type": "code",
   "execution_count": 8,
   "id": "d124faaf-2c44-4453-9cf5-143999c8db1b",
   "metadata": {},
   "outputs": [
    {
     "name": "stdout",
     "output_type": "stream",
     "text": [
      "Period covered by the Date column:\n",
      " From 2018-10-01 00:00:00+00:00 to 2019-03-13 00:00:00+00:00\n"
     ]
    }
   ],
   "source": [
    "# Which period does it cover? How many different dates have job postings? (1 point) \n",
    "df['Date'].min()\n",
    "df['Date'].max()\n",
    "print(\"Period covered by the Date column:\\n From\",df['Date'].min(),\"to\",df['Date'].max())"
   ]
  },
  {
   "cell_type": "code",
   "execution_count": 9,
   "id": "68df75bf-9098-4977-bfe8-e0de09d3a2c4",
   "metadata": {},
   "outputs": [
    {
     "name": "stdout",
     "output_type": "stream",
     "text": [
      "The dataset has 66 locations\n",
      "The location with the most job postings is: Sydney .\n"
     ]
    }
   ],
   "source": [
    "#How many locations does the dataset have? \n",
    "len(df['Location'].unique()) #66\n",
    "print(\"The dataset has\",len(df['Location'].unique()),\"locations\")\n",
    "#Which location has the most job postings?  (1 point)\n",
    "print(\"The location with the most job postings is:\",df['Location'].value_counts().idxmax(),\".\")"
   ]
  },
  {
   "cell_type": "code",
   "execution_count": 10,
   "id": "61281909-582a-4904-a1c3-ec122ca3cebd",
   "metadata": {},
   "outputs": [
    {
     "data": {
      "text/plain": [
       "Location\n",
       "Sydney                                  60765\n",
       "Melbourne                               46690\n",
       "Brisbane                                21466\n",
       "Perth                                   13198\n",
       "Adelaide                                 6653\n",
       "                                        ...  \n",
       "Yorke Peninsula & Clare Valley             96\n",
       "Tumut, Snowy & Monaro                      86\n",
       "Somerset & Lockyer                         65\n",
       "Fleurieu Peninsula & Kangaroo Island       64\n",
       "Central & South East TAS                   57\n",
       "Name: count, Length: 65, dtype: int64"
      ]
     },
     "execution_count": 10,
     "metadata": {},
     "output_type": "execute_result"
    }
   ],
   "source": [
    "df['Location'].value_counts()"
   ]
  },
  {
   "cell_type": "code",
   "execution_count": 11,
   "id": "79027602-782c-488d-83c5-42c4eda70b64",
   "metadata": {},
   "outputs": [
    {
     "data": {
      "text/plain": [
       "Location\n",
       "Sydney                                  60765\n",
       "Melbourne                               46690\n",
       "Brisbane                                21466\n",
       "Perth                                   13198\n",
       "Adelaide                                 6653\n",
       "                                        ...  \n",
       "Yorke Peninsula & Clare Valley             96\n",
       "Tumut, Snowy & Monaro                      86\n",
       "Somerset & Lockyer                         65\n",
       "Fleurieu Peninsula & Kangaroo Island       64\n",
       "Central & South East TAS                   57\n",
       "Name: count, Length: 65, dtype: int64"
      ]
     },
     "execution_count": 11,
     "metadata": {},
     "output_type": "execute_result"
    }
   ],
   "source": [
    "df['Location'].value_counts()"
   ]
  },
  {
   "cell_type": "code",
   "execution_count": 12,
   "id": "a5e21487-dd61-475b-9a22-96aef09d3112",
   "metadata": {},
   "outputs": [
    {
     "name": "stdout",
     "output_type": "stream",
     "text": [
      "There are 31 job classifications\n"
     ]
    },
    {
     "data": {
      "text/plain": [
       "Classification\n",
       "Information & Communication Technology    22796\n",
       "Trades & Services                         17976\n",
       "Healthcare & Medical                      17085\n",
       "Hospitality & Tourism                     15523\n",
       "Manufacturing, Transport & Logistics      12376\n",
       "Administration & Office Support           10020\n",
       "Accounting                                 9368\n",
       "Education & Training                       9280\n",
       "Construction                               8372\n",
       "Sales                                      8119\n",
       "Retail & Consumer Products                 8041\n",
       "Government & Defence                       7443\n",
       "Engineering                                6458\n",
       "Mining, Resources & Energy                 6288\n",
       "Banking & Financial Services               4633\n",
       "Community Services & Development           4485\n",
       "Legal                                      4237\n",
       "Human Resources & Recruitment              4144\n",
       "Call Centre & Customer Service             3971\n",
       "Marketing & Communications                 3968\n",
       "Real Estate & Property                     3614\n",
       "Design & Architecture                      1811\n",
       "Insurance & Superannuation                 1474\n",
       "Consulting & Strategy                      1206\n",
       "Sport & Recreation                          984\n",
       "Science & Technology                        905\n",
       "Farming, Animals & Conservation             882\n",
       "CEO & General Management                    844\n",
       "Advertising, Arts & Media                   833\n",
       "Self Employment                              93\n",
       "Name: count, dtype: int64"
      ]
     },
     "execution_count": 12,
     "metadata": {},
     "output_type": "execute_result"
    }
   ],
   "source": [
    "#How many job sectors(job classifications) are there in the dataset? 31\n",
    "print(\"There are\",len(df['Classification'].unique()) ,\"job classifications\" )\n",
    "#List the name of each sector and its’ total of job postings. (1 point) \n",
    "df['Classification'].value_counts()"
   ]
  },
  {
   "cell_type": "code",
   "execution_count": 13,
   "id": "4559d86b-dfff-41ae-9924-911b0493f521",
   "metadata": {},
   "outputs": [
    {
     "name": "stdout",
     "output_type": "stream",
     "text": [
      "There are 22 job SubClassification in ICT\n"
     ]
    }
   ],
   "source": [
    "# Choose your favorite job sector (e.g. Information & Communication Technology), how many sub-sectors are there in that sector?\n",
    "df_it= df[df['Classification'] == \"Information & Communication Technology\"]\n",
    "df_it.head(3)\n",
    "print(\"There are\",len(df_it['SubClassification'].unique()) ,\"job SubClassification in ICT\" )\n",
    "#List the name of each sub-sector and its’ job posting number. (1 point) "
   ]
  },
  {
   "cell_type": "code",
   "execution_count": 14,
   "id": "f8833b54-be92-4df7-9612-2f2dc29d050e",
   "metadata": {},
   "outputs": [
    {
     "name": "stdout",
     "output_type": "stream",
     "text": [
      "SubClassification posting numbers in ICT\n"
     ]
    },
    {
     "data": {
      "text/plain": [
       "SubClassification\n",
       "Developers/Programmers                   4211\n",
       "Business/Systems Analysts                2986\n",
       "Programme & Project Management           2413\n",
       "Architects                               1548\n",
       "Engineering - Software                   1437\n",
       "Help Desk & IT Support                   1374\n",
       "Networks & Systems Administration        1194\n",
       "Consultants                              1149\n",
       "Other                                     997\n",
       "Testing & Quality Assurance               831\n",
       "Security                                  774\n",
       "Management                                746\n",
       "Engineering - Network                     552\n",
       "Database Development & Administration     551\n",
       "Web Development & Production              452\n",
       "Sales - Pre & Post                        449\n",
       "Product Management & Development          376\n",
       "Telecommunications                        357\n",
       "Team Leaders                              173\n",
       "Engineering - Hardware                    116\n",
       "Technical Writing                          97\n",
       "Computer Operators                         13\n",
       "Name: count, dtype: int64"
      ]
     },
     "execution_count": 14,
     "metadata": {},
     "output_type": "execute_result"
    }
   ],
   "source": [
    "df_it['SubClassification'].unique()\n",
    "print(\"SubClassification posting numbers in ICT\")\n",
    "df_it['SubClassification'].value_counts()"
   ]
  },
  {
   "cell_type": "code",
   "execution_count": 15,
   "id": "99c7ec99-57a2-474b-b334-29be8e075a2d",
   "metadata": {},
   "outputs": [
    {
     "name": "stdout",
     "output_type": "stream",
     "text": [
      "The salary ranges and their total of job postings are from 999 to 0\n"
     ]
    }
   ],
   "source": [
    "#List the salary ranges and their total of job postings. (1 point) \n",
    "df_it['HighestSalary'].max() #999\n",
    "df_it['HighestSalary'].min() #30\n",
    "df_it['LowestSalary'].max() #200\n",
    "df_it['LowestSalary'].min() #0\n",
    "print(\"The salary ranges and their total of job postings are from\",df_it['HighestSalary'].max(),\"to\",df_it['LowestSalary'].min())"
   ]
  },
  {
   "cell_type": "code",
   "execution_count": 16,
   "id": "f4b5d921-e230-46a8-839f-2287690b9b4f",
   "metadata": {},
   "outputs": [
    {
     "data": {
      "text/plain": [
       "0"
      ]
     },
     "execution_count": 16,
     "metadata": {},
     "output_type": "execute_result"
    }
   ],
   "source": [
    "df_it['HighestSalary'].max() #999\n",
    "df_it['LowestSalary'].min() #0"
   ]
  },
  {
   "cell_type": "code",
   "execution_count": 17,
   "id": "6a6c8512-9b22-47ac-a5fb-69a78a3743b4",
   "metadata": {},
   "outputs": [
    {
     "data": {
      "text/plain": [
       "HighestSalary\n",
       "200    5650\n",
       "30     3670\n",
       "150    3537\n",
       "999    3452\n",
       "120    2765\n",
       "100    1334\n",
       "80      842\n",
       "70      620\n",
       "60      347\n",
       "50      300\n",
       "40      279\n",
       "Name: count, dtype: int64"
      ]
     },
     "execution_count": 17,
     "metadata": {},
     "output_type": "execute_result"
    }
   ],
   "source": [
    "df_it['HighestSalary'].value_counts()"
   ]
  },
  {
   "cell_type": "code",
   "execution_count": 18,
   "id": "8e9e0da5-fc5d-4937-ad25-cf1f95bb43d6",
   "metadata": {},
   "outputs": [
    {
     "data": {
      "text/plain": [
       "LowestSalary\n",
       "150    5650\n",
       "0      3670\n",
       "120    3537\n",
       "200    3452\n",
       "100    2765\n",
       "80     1334\n",
       "70      842\n",
       "60      620\n",
       "50      347\n",
       "40      300\n",
       "30      279\n",
       "Name: count, dtype: int64"
      ]
     },
     "execution_count": 18,
     "metadata": {},
     "output_type": "execute_result"
    }
   ],
   "source": [
    "df_it['LowestSalary'].value_counts()"
   ]
  },
  {
   "cell_type": "code",
   "execution_count": null,
   "id": "313e399d-ed6e-419f-84cf-80cc3f7a806a",
   "metadata": {},
   "outputs": [],
   "source": []
  },
  {
   "cell_type": "code",
   "execution_count": 19,
   "id": "1735e53c-05e5-4e61-8245-49cf41a95551",
   "metadata": {},
   "outputs": [
    {
     "data": {
      "text/html": [
       "<div>\n",
       "<style scoped>\n",
       "    .dataframe tbody tr th:only-of-type {\n",
       "        vertical-align: middle;\n",
       "    }\n",
       "\n",
       "    .dataframe tbody tr th {\n",
       "        vertical-align: top;\n",
       "    }\n",
       "\n",
       "    .dataframe thead th {\n",
       "        text-align: right;\n",
       "    }\n",
       "</style>\n",
       "<table border=\"1\" class=\"dataframe\">\n",
       "  <thead>\n",
       "    <tr style=\"text-align: right;\">\n",
       "      <th></th>\n",
       "      <th>Id</th>\n",
       "      <th>Title</th>\n",
       "      <th>Company</th>\n",
       "      <th>Date</th>\n",
       "      <th>Location</th>\n",
       "      <th>Area</th>\n",
       "      <th>Classification</th>\n",
       "      <th>SubClassification</th>\n",
       "      <th>Requirement</th>\n",
       "      <th>FullDescription</th>\n",
       "      <th>LowestSalary</th>\n",
       "      <th>HighestSalary</th>\n",
       "      <th>JobType</th>\n",
       "    </tr>\n",
       "  </thead>\n",
       "  <tbody>\n",
       "    <tr>\n",
       "      <th>89</th>\n",
       "      <td>37404291</td>\n",
       "      <td>Technical Support Engineer</td>\n",
       "      <td>FTI Consulting</td>\n",
       "      <td>2018-10-07 00:00:00+00:00</td>\n",
       "      <td>Sydney</td>\n",
       "      <td>CBD, Inner West &amp; Eastern Suburbs</td>\n",
       "      <td>Information &amp; Communication Technology</td>\n",
       "      <td>Help Desk &amp; IT Support</td>\n",
       "      <td>Act as an advisor to staff in all practice are...</td>\n",
       "      <td>NaN</td>\n",
       "      <td>0</td>\n",
       "      <td>30</td>\n",
       "      <td>NaN</td>\n",
       "    </tr>\n",
       "    <tr>\n",
       "      <th>96</th>\n",
       "      <td>37404325</td>\n",
       "      <td>Business Development Manager</td>\n",
       "      <td>TPG Telecom Limited</td>\n",
       "      <td>2018-10-07 00:00:00+00:00</td>\n",
       "      <td>Perth</td>\n",
       "      <td>CBD, Inner &amp; Western Suburbs</td>\n",
       "      <td>Information &amp; Communication Technology</td>\n",
       "      <td>Sales - Pre &amp; Post</td>\n",
       "      <td>Looking to get your foot in the door in a care...</td>\n",
       "      <td>NaN</td>\n",
       "      <td>0</td>\n",
       "      <td>30</td>\n",
       "      <td>NaN</td>\n",
       "    </tr>\n",
       "    <tr>\n",
       "      <th>127</th>\n",
       "      <td>37404230</td>\n",
       "      <td>Systems Engineer</td>\n",
       "      <td>Humanised Group</td>\n",
       "      <td>2018-10-07 00:00:00+00:00</td>\n",
       "      <td>Brisbane</td>\n",
       "      <td>CBD &amp; Inner Suburbs</td>\n",
       "      <td>Information &amp; Communication Technology</td>\n",
       "      <td>Networks &amp; Systems Administration</td>\n",
       "      <td>Systems Engineer to work on BAU/Projects for a...</td>\n",
       "      <td>&lt;strong&gt;The Company&lt;/strong&gt;&lt;br&gt; &lt;br&gt; This org...</td>\n",
       "      <td>0</td>\n",
       "      <td>30</td>\n",
       "      <td>Full Time</td>\n",
       "    </tr>\n",
       "  </tbody>\n",
       "</table>\n",
       "</div>"
      ],
      "text/plain": [
       "           Id                         Title              Company  \\\n",
       "89   37404291    Technical Support Engineer       FTI Consulting   \n",
       "96   37404325  Business Development Manager  TPG Telecom Limited   \n",
       "127  37404230              Systems Engineer      Humanised Group   \n",
       "\n",
       "                         Date  Location                               Area  \\\n",
       "89  2018-10-07 00:00:00+00:00    Sydney  CBD, Inner West & Eastern Suburbs   \n",
       "96  2018-10-07 00:00:00+00:00     Perth       CBD, Inner & Western Suburbs   \n",
       "127 2018-10-07 00:00:00+00:00  Brisbane                CBD & Inner Suburbs   \n",
       "\n",
       "                             Classification  \\\n",
       "89   Information & Communication Technology   \n",
       "96   Information & Communication Technology   \n",
       "127  Information & Communication Technology   \n",
       "\n",
       "                     SubClassification  \\\n",
       "89              Help Desk & IT Support   \n",
       "96                  Sales - Pre & Post   \n",
       "127  Networks & Systems Administration   \n",
       "\n",
       "                                           Requirement  \\\n",
       "89   Act as an advisor to staff in all practice are...   \n",
       "96   Looking to get your foot in the door in a care...   \n",
       "127  Systems Engineer to work on BAU/Projects for a...   \n",
       "\n",
       "                                       FullDescription  LowestSalary  \\\n",
       "89                                                 NaN             0   \n",
       "96                                                 NaN             0   \n",
       "127  <strong>The Company</strong><br> <br> This org...             0   \n",
       "\n",
       "     HighestSalary    JobType  \n",
       "89              30        NaN  \n",
       "96              30        NaN  \n",
       "127             30  Full Time  "
      ]
     },
     "execution_count": 19,
     "metadata": {},
     "output_type": "execute_result"
    }
   ],
   "source": [
    "df_it.head(3)"
   ]
  },
  {
   "cell_type": "code",
   "execution_count": 20,
   "id": "d6823a99-a418-4a64-acaf-bfdbb3fdaf76",
   "metadata": {},
   "outputs": [
    {
     "data": {
      "text/plain": [
       "89                   Help Desk & IT Support\n",
       "96                       Sales - Pre & Post\n",
       "127       Networks & Systems Administration\n",
       "130          Programme & Project Management\n",
       "133                  Help Desk & IT Support\n",
       "                        ...                \n",
       "197204                          Consultants\n",
       "197208                          Consultants\n",
       "197217       Programme & Project Management\n",
       "197218          Testing & Quality Assurance\n",
       "197228    Networks & Systems Administration\n",
       "Name: SubClassification, Length: 22796, dtype: object"
      ]
     },
     "execution_count": 20,
     "metadata": {},
     "output_type": "execute_result"
    }
   ],
   "source": [
    "# List the job types. In each job type, what are the lowest salary and highest salary? (1 point)\n",
    "df_it['SubClassification']"
   ]
  },
  {
   "cell_type": "code",
   "execution_count": 21,
   "id": "9e9709cf-3eb5-4759-a56c-5639ad715695",
   "metadata": {},
   "outputs": [
    {
     "name": "stdout",
     "output_type": "stream",
     "text": [
      "\n",
      "Help Desk & IT Support \n",
      "The MaxSlary is: 999 \n",
      "The min salary is: 0\n",
      "\n",
      "Sales - Pre & Post \n",
      "The MaxSlary is: 999 \n",
      "The min salary is: 0\n",
      "\n",
      "Networks & Systems Administration \n",
      "The MaxSlary is: 999 \n",
      "The min salary is: 0\n",
      "\n",
      "Programme & Project Management \n",
      "The MaxSlary is: 999 \n",
      "The min salary is: 0\n",
      "\n",
      "Security \n",
      "The MaxSlary is: 999 \n",
      "The min salary is: 0\n",
      "\n",
      "Consultants \n",
      "The MaxSlary is: 999 \n",
      "The min salary is: 0\n",
      "\n",
      "Architects \n",
      "The MaxSlary is: 999 \n",
      "The min salary is: 0\n",
      "\n",
      "Other \n",
      "The MaxSlary is: 999 \n",
      "The min salary is: 0\n",
      "\n",
      "Business/Systems Analysts \n",
      "The MaxSlary is: 999 \n",
      "The min salary is: 0\n",
      "\n",
      "Developers/Programmers \n",
      "The MaxSlary is: 999 \n",
      "The min salary is: 0\n",
      "\n",
      "Web Development & Production \n",
      "The MaxSlary is: 999 \n",
      "The min salary is: 0\n",
      "\n",
      "Engineering - Software \n",
      "The MaxSlary is: 999 \n",
      "The min salary is: 0\n",
      "\n",
      "Product Management & Development \n",
      "The MaxSlary is: 999 \n",
      "The min salary is: 0\n",
      "\n",
      "Engineering - Network \n",
      "The MaxSlary is: 999 \n",
      "The min salary is: 0\n",
      "\n",
      "Team Leaders \n",
      "The MaxSlary is: 999 \n",
      "The min salary is: 0\n",
      "\n",
      "Testing & Quality Assurance \n",
      "The MaxSlary is: 999 \n",
      "The min salary is: 0\n",
      "\n",
      "Management \n",
      "The MaxSlary is: 999 \n",
      "The min salary is: 0\n",
      "\n",
      "Database Development & Administration \n",
      "The MaxSlary is: 999 \n",
      "The min salary is: 0\n",
      "\n",
      "Telecommunications \n",
      "The MaxSlary is: 999 \n",
      "The min salary is: 0\n",
      "\n",
      "Technical Writing \n",
      "The MaxSlary is: 999 \n",
      "The min salary is: 0\n",
      "\n",
      "Engineering - Hardware \n",
      "The MaxSlary is: 999 \n",
      "The min salary is: 0\n",
      "\n",
      "Computer Operators \n",
      "The MaxSlary is: 999 \n",
      "The min salary is: 0\n"
     ]
    }
   ],
   "source": [
    "for sub in df_it['SubClassification'].unique():\n",
    "    print()\n",
    "    subMaxSlary = df_it[df_it['SubClassification']== sub]['HighestSalary'].max()\n",
    "    subMinxSlary = df_it[df_it['SubClassification']== sub]['LowestSalary'].min()\n",
    "    print(sub,\"\\nThe MaxSlary is:\",subMaxSlary,\"\\nThe min salary is:\",subMinxSlary)"
   ]
  },
  {
   "cell_type": "markdown",
   "id": "e41fc565-ce62-4e62-8d1b-e7a9eb957cfd",
   "metadata": {},
   "source": [
    "### 2. Normalize and clean data. (7 points)"
   ]
  },
  {
   "cell_type": "raw",
   "id": "ce6968b0-5145-43f4-a681-58c029b6690a",
   "metadata": {},
   "source": [
    "✓ The salaries are kept in the dataset as “HighestSalary” and “LowestSalary”. You should calculate the “AverageSalary” for each job. (1 point) "
   ]
  },
  {
   "cell_type": "code",
   "execution_count": 22,
   "id": "a70bb933-eafa-41a8-aba5-4902d72df62c",
   "metadata": {},
   "outputs": [],
   "source": [
    "#1.The salaries are kept in the dataset as “HighestSalary” and “LowestSalary”. \n",
    "#You should calculate the “AverageSalary” for each job. (1 point) "
   ]
  },
  {
   "cell_type": "code",
   "execution_count": 23,
   "id": "2c8a1f57-7da0-46e2-884a-a6b97a63dad6",
   "metadata": {},
   "outputs": [
    {
     "data": {
      "text/html": [
       "<div>\n",
       "<style scoped>\n",
       "    .dataframe tbody tr th:only-of-type {\n",
       "        vertical-align: middle;\n",
       "    }\n",
       "\n",
       "    .dataframe tbody tr th {\n",
       "        vertical-align: top;\n",
       "    }\n",
       "\n",
       "    .dataframe thead th {\n",
       "        text-align: right;\n",
       "    }\n",
       "</style>\n",
       "<table border=\"1\" class=\"dataframe\">\n",
       "  <thead>\n",
       "    <tr style=\"text-align: right;\">\n",
       "      <th></th>\n",
       "      <th>Id</th>\n",
       "      <th>Title</th>\n",
       "      <th>Company</th>\n",
       "      <th>Date</th>\n",
       "      <th>Location</th>\n",
       "      <th>Area</th>\n",
       "      <th>Classification</th>\n",
       "      <th>SubClassification</th>\n",
       "      <th>Requirement</th>\n",
       "      <th>FullDescription</th>\n",
       "      <th>LowestSalary</th>\n",
       "      <th>HighestSalary</th>\n",
       "      <th>JobType</th>\n",
       "      <th>AverageSalary</th>\n",
       "    </tr>\n",
       "  </thead>\n",
       "  <tbody>\n",
       "    <tr>\n",
       "      <th>0</th>\n",
       "      <td>37404348</td>\n",
       "      <td>Casual Stock Replenisher</td>\n",
       "      <td>Aldi Stores</td>\n",
       "      <td>2018-10-07 00:00:00+00:00</td>\n",
       "      <td>Sydney</td>\n",
       "      <td>North West &amp; Hills District</td>\n",
       "      <td>Retail &amp; Consumer Products</td>\n",
       "      <td>Retail Assistants</td>\n",
       "      <td>Our Casual Stock Replenishers pride themselves...</td>\n",
       "      <td>NaN</td>\n",
       "      <td>0</td>\n",
       "      <td>30</td>\n",
       "      <td>NaN</td>\n",
       "      <td>15.0</td>\n",
       "    </tr>\n",
       "    <tr>\n",
       "      <th>1</th>\n",
       "      <td>37404337</td>\n",
       "      <td>Casual Stock Replenisher</td>\n",
       "      <td>Aldi Stores</td>\n",
       "      <td>2018-10-07 00:00:00+00:00</td>\n",
       "      <td>Richmond &amp; Hawkesbury</td>\n",
       "      <td>NaN</td>\n",
       "      <td>Retail &amp; Consumer Products</td>\n",
       "      <td>Retail Assistants</td>\n",
       "      <td>Our Casual Stock Replenishers pride themselves...</td>\n",
       "      <td>NaN</td>\n",
       "      <td>0</td>\n",
       "      <td>30</td>\n",
       "      <td>NaN</td>\n",
       "      <td>15.0</td>\n",
       "    </tr>\n",
       "    <tr>\n",
       "      <th>2</th>\n",
       "      <td>37404356</td>\n",
       "      <td>RETAIL SALES SUPERSTARS and STYLISTS Wanted - ...</td>\n",
       "      <td>LB Creative Pty Ltd</td>\n",
       "      <td>2018-10-07 00:00:00+00:00</td>\n",
       "      <td>Brisbane</td>\n",
       "      <td>CBD &amp; Inner Suburbs</td>\n",
       "      <td>Retail &amp; Consumer Products</td>\n",
       "      <td>Retail Assistants</td>\n",
       "      <td>BRAND NEW FLAGSHIP STORE OPENING - SUNSHINE PLAZA</td>\n",
       "      <td>NaN</td>\n",
       "      <td>0</td>\n",
       "      <td>30</td>\n",
       "      <td>NaN</td>\n",
       "      <td>15.0</td>\n",
       "    </tr>\n",
       "  </tbody>\n",
       "</table>\n",
       "</div>"
      ],
      "text/plain": [
       "         Id                                              Title  \\\n",
       "0  37404348                           Casual Stock Replenisher   \n",
       "1  37404337                           Casual Stock Replenisher   \n",
       "2  37404356  RETAIL SALES SUPERSTARS and STYLISTS Wanted - ...   \n",
       "\n",
       "               Company                      Date               Location  \\\n",
       "0          Aldi Stores 2018-10-07 00:00:00+00:00                 Sydney   \n",
       "1          Aldi Stores 2018-10-07 00:00:00+00:00  Richmond & Hawkesbury   \n",
       "2  LB Creative Pty Ltd 2018-10-07 00:00:00+00:00               Brisbane   \n",
       "\n",
       "                          Area              Classification  SubClassification  \\\n",
       "0  North West & Hills District  Retail & Consumer Products  Retail Assistants   \n",
       "1                          NaN  Retail & Consumer Products  Retail Assistants   \n",
       "2          CBD & Inner Suburbs  Retail & Consumer Products  Retail Assistants   \n",
       "\n",
       "                                         Requirement FullDescription  \\\n",
       "0  Our Casual Stock Replenishers pride themselves...             NaN   \n",
       "1  Our Casual Stock Replenishers pride themselves...             NaN   \n",
       "2  BRAND NEW FLAGSHIP STORE OPENING - SUNSHINE PLAZA             NaN   \n",
       "\n",
       "   LowestSalary  HighestSalary JobType  AverageSalary  \n",
       "0             0             30     NaN           15.0  \n",
       "1             0             30     NaN           15.0  \n",
       "2             0             30     NaN           15.0  "
      ]
     },
     "execution_count": 23,
     "metadata": {},
     "output_type": "execute_result"
    }
   ],
   "source": [
    "df[\"AverageSalary\"] = (df['HighestSalary']+df['LowestSalary'])/2\n",
    "df.head(3)"
   ]
  },
  {
   "cell_type": "markdown",
   "id": "0e87d67e-bc3a-4398-ab91-1d2f9bb7d0cc",
   "metadata": {},
   "source": [
    "#### ✓ The raw dataset values of the \"Id\" column had inconsistencies in their representation. The Id values should have 8 number long integers only. Write code to remove unnecessary characters. (1 point) "
   ]
  },
  {
   "cell_type": "code",
   "execution_count": 24,
   "id": "e958716d-e4b6-4244-8b7b-e90dabeee007",
   "metadata": {},
   "outputs": [
    {
     "data": {
      "text/plain": [
       "count       318477\n",
       "unique      318477\n",
       "top       37404348\n",
       "freq             1\n",
       "Name: Id, dtype: int64"
      ]
     },
     "execution_count": 24,
     "metadata": {},
     "output_type": "execute_result"
    }
   ],
   "source": [
    "df['Id'].describe()"
   ]
  },
  {
   "cell_type": "code",
   "execution_count": 25,
   "id": "0753151b-b26f-460d-98ed-f1b51bafa18c",
   "metadata": {},
   "outputs": [
    {
     "data": {
      "text/plain": [
       "(318477,)"
      ]
     },
     "execution_count": 25,
     "metadata": {},
     "output_type": "execute_result"
    }
   ],
   "source": [
    "df['Id'].shape"
   ]
  },
  {
   "cell_type": "code",
   "execution_count": null,
   "id": "0a8aa5bb-82d9-4d8a-bc31-e76b76c99d88",
   "metadata": {
    "scrolled": true
   },
   "outputs": [],
   "source": [
    "invalid_ids = df['Id'][~df['Id'].astype(str).str.match(r'^\\d{8}$')] \n",
    "print(invalid_ids.iloc[0])\n",
    "invalid_ids"
   ]
  },
  {
   "cell_type": "code",
   "execution_count": 27,
   "id": "e2b0d5ab-bd00-4301-9e84-bce7eb00e624",
   "metadata": {},
   "outputs": [
    {
     "data": {
      "text/plain": [
       "'37915260&searchrequesttoken=e859cc74-e22f-498d-ac7c-77a7e1b45676'"
      ]
     },
     "execution_count": 27,
     "metadata": {},
     "output_type": "execute_result"
    }
   ],
   "source": [
    "invalid_ids.iloc[0]"
   ]
  },
  {
   "cell_type": "code",
   "execution_count": 28,
   "id": "45df061b-feeb-4912-9d46-eafe2c21e67e",
   "metadata": {},
   "outputs": [
    {
     "data": {
      "text/plain": [
       "43462"
      ]
     },
     "execution_count": 28,
     "metadata": {},
     "output_type": "execute_result"
    }
   ],
   "source": [
    "invalid_ids.count()"
   ]
  },
  {
   "cell_type": "code",
   "execution_count": 31,
   "id": "c37be1c2-b703-4797-8f2c-f1d553b3fb37",
   "metadata": {},
   "outputs": [],
   "source": [
    "df['Id'] = df['Id'].astype(str).apply(lambda x: x if x.isdigit() and len(x) == 8 else x.split('&')[0])"
   ]
  },
  {
   "cell_type": "code",
   "execution_count": 32,
   "id": "b4c32fa5-93ed-48a6-8a90-394058e974bd",
   "metadata": {},
   "outputs": [
    {
     "name": "stdout",
     "output_type": "stream",
     "text": [
      "Series([], Name: Id, dtype: object)\n"
     ]
    }
   ],
   "source": [
    "invalid_ids = df['Id'][~df['Id'].astype(str).str.match(r'^\\d{8}$')]  \n",
    "print(invalid_ids)"
   ]
  },
  {
   "cell_type": "markdown",
   "id": "82d45c30-fb04-4ee9-b203-5ad7bfa8f883",
   "metadata": {},
   "source": [
    "### ✓ The \"Date\" column is represented in a format that contained both date and time information. However, the time is not correct and should be removed. (1 point) "
   ]
  },
  {
   "cell_type": "code",
   "execution_count": 34,
   "id": "11705870-809f-4ebd-8b06-0087d1d6675c",
   "metadata": {},
   "outputs": [
    {
     "data": {
      "text/plain": [
       "0         2018-10-07\n",
       "1         2018-10-07\n",
       "2         2018-10-07\n",
       "3         2018-10-07\n",
       "4         2018-10-07\n",
       "             ...    \n",
       "318472    2019-03-13\n",
       "318473    2019-03-13\n",
       "318474    2019-03-12\n",
       "318475    2019-03-08\n",
       "318476    2019-03-13\n",
       "Name: Date, Length: 318477, dtype: object"
      ]
     },
     "execution_count": 34,
     "metadata": {},
     "output_type": "execute_result"
    }
   ],
   "source": [
    "df['Date'] #2018-10-07 00:00:00+00:00 dtype: datetime64[ns, UTC]\n",
    "# keep only the date\n",
    "df['Date'] = df['Date'].dt.date\n",
    "df['Date']"
   ]
  },
  {
   "cell_type": "code",
   "execution_count": null,
   "id": "c183fa75-d577-4b14-95bf-9132a1ac3c94",
   "metadata": {},
   "outputs": [],
   "source": []
  },
  {
   "cell_type": "markdown",
   "id": "27ca3aaf-7dfb-4138-9d74-e9f1550e775e",
   "metadata": {},
   "source": [
    "#### Change type of “Id” column to numeric and change type of “Date” column to DateTime. (1 point)"
   ]
  },
  {
   "cell_type": "code",
   "execution_count": 37,
   "id": "8e0c60f4-0a9c-43e4-8b0b-b56f90793498",
   "metadata": {},
   "outputs": [
    {
     "name": "stdout",
     "output_type": "stream",
     "text": [
      "<class 'pandas.core.frame.DataFrame'>\n",
      "RangeIndex: 318477 entries, 0 to 318476\n",
      "Data columns (total 14 columns):\n",
      " #   Column             Non-Null Count   Dtype  \n",
      "---  ------             --------------   -----  \n",
      " 0   Id                 318477 non-null  object \n",
      " 1   Title              318477 non-null  object \n",
      " 2   Company            306473 non-null  object \n",
      " 3   Date               318477 non-null  object \n",
      " 4   Location           197229 non-null  object \n",
      " 5   Area               122658 non-null  object \n",
      " 6   Classification     197229 non-null  object \n",
      " 7   SubClassification  197229 non-null  object \n",
      " 8   Requirement        318470 non-null  object \n",
      " 9   FullDescription    302302 non-null  object \n",
      " 10  LowestSalary       318477 non-null  int64  \n",
      " 11  HighestSalary      318477 non-null  int64  \n",
      " 12  JobType            302379 non-null  object \n",
      " 13  AverageSalary      318477 non-null  float64\n",
      "dtypes: float64(1), int64(2), object(11)\n",
      "memory usage: 34.0+ MB\n"
     ]
    }
   ],
   "source": [
    "df.info()"
   ]
  },
  {
   "cell_type": "code",
   "execution_count": 39,
   "id": "4fa7c922-3749-475e-80c9-347054111972",
   "metadata": {},
   "outputs": [
    {
     "data": {
      "text/plain": [
       "0         37404348\n",
       "1         37404337\n",
       "2         37404356\n",
       "3         37404330\n",
       "4         37404308\n",
       "            ...   \n",
       "318472    38564891\n",
       "318473    38564940\n",
       "318474    38552964\n",
       "318475    38534438\n",
       "318476    38561751\n",
       "Name: Id, Length: 318477, dtype: int64"
      ]
     },
     "execution_count": 39,
     "metadata": {},
     "output_type": "execute_result"
    }
   ],
   "source": [
    "#Change type of “Id” column to numeric \n",
    "df['Id'] = pd.to_numeric(df['Id'], errors='raise')\n",
    "df['Id']"
   ]
  },
  {
   "cell_type": "code",
   "execution_count": 45,
   "id": "9366491b-d4a4-45a5-85d6-ea967d28caf1",
   "metadata": {},
   "outputs": [
    {
     "data": {
      "text/plain": [
       "0        2018-10-07\n",
       "1        2018-10-07\n",
       "2        2018-10-07\n",
       "3        2018-10-07\n",
       "4        2018-10-07\n",
       "            ...    \n",
       "318472   2019-03-13\n",
       "318473   2019-03-13\n",
       "318474   2019-03-12\n",
       "318475   2019-03-08\n",
       "318476   2019-03-13\n",
       "Name: Date, Length: 318477, dtype: datetime64[ns]"
      ]
     },
     "execution_count": 45,
     "metadata": {},
     "output_type": "execute_result"
    }
   ],
   "source": [
    "df['Date'] = pd.to_datetime(df['Date'])\n",
    "df['Date']"
   ]
  },
  {
   "cell_type": "code",
   "execution_count": 46,
   "id": "5ef600f9-e463-4300-b4b2-dccb4a9c2091",
   "metadata": {},
   "outputs": [
    {
     "name": "stdout",
     "output_type": "stream",
     "text": [
      "<class 'pandas.core.frame.DataFrame'>\n",
      "RangeIndex: 318477 entries, 0 to 318476\n",
      "Data columns (total 14 columns):\n",
      " #   Column             Non-Null Count   Dtype         \n",
      "---  ------             --------------   -----         \n",
      " 0   Id                 318477 non-null  int64         \n",
      " 1   Title              318477 non-null  object        \n",
      " 2   Company            306473 non-null  object        \n",
      " 3   Date               318477 non-null  datetime64[ns]\n",
      " 4   Location           197229 non-null  object        \n",
      " 5   Area               122658 non-null  object        \n",
      " 6   Classification     197229 non-null  object        \n",
      " 7   SubClassification  197229 non-null  object        \n",
      " 8   Requirement        318470 non-null  object        \n",
      " 9   FullDescription    302302 non-null  object        \n",
      " 10  LowestSalary       318477 non-null  int64         \n",
      " 11  HighestSalary      318477 non-null  int64         \n",
      " 12  JobType            302379 non-null  object        \n",
      " 13  AverageSalary      318477 non-null  float64       \n",
      "dtypes: datetime64[ns](1), float64(1), int64(3), object(9)\n",
      "memory usage: 34.0+ MB\n"
     ]
    }
   ],
   "source": [
    "df.info()"
   ]
  },
  {
   "cell_type": "markdown",
   "id": "10972975-ffef-457d-91f5-7cecf00fe4e8",
   "metadata": {},
   "source": [
    "#### ✓ Are there any duplicate data in the dataset? Provide the way you find them and your solution to fix it. **  (1.5 point) "
   ]
  },
  {
   "cell_type": "code",
   "execution_count": 51,
   "id": "8052d50d-ebab-49f2-b50c-d43fce5615d7",
   "metadata": {},
   "outputs": [
    {
     "name": "stdout",
     "output_type": "stream",
     "text": [
      "Number of duplicate rows: 0\n",
      "Number of duplicate rows: 0\n",
      "Number of rows after removing duplicates: 318369\n"
     ]
    }
   ],
   "source": [
    "duplicates = df.duplicated()\n",
    "print(\"Number of duplicate rows:\", duplicates.sum())\n",
    "# drop duplicates and keep the fisrt row\n",
    "df = df.drop_duplicates(keep='first')\n",
    "# check\n",
    "print(\"Number of duplicate rows:\", duplicates.sum())\n",
    "print(\"Number of rows after removing duplicates:\", len(df))"
   ]
  },
  {
   "cell_type": "code",
   "execution_count": null,
   "id": "cad4a5bb-5a78-4695-a36a-d919cc10adf2",
   "metadata": {},
   "outputs": [],
   "source": [
    " Check missing data and visualize them in a corresponding chart.** (1.5 point) "
   ]
  },
  {
   "cell_type": "markdown",
   "id": "eeeadfeb-53b0-423b-9418-cf8d1c7d7188",
   "metadata": {},
   "source": [
    "#### ✓ Check missing data and visualize them in a corresponding chart.** (1.5 point) "
   ]
  },
  {
   "cell_type": "code",
   "execution_count": 55,
   "id": "e5f05d80-2cc5-4486-9951-6569310741bf",
   "metadata": {},
   "outputs": [
    {
     "data": {
      "text/plain": [
       "Id                        0\n",
       "Title                     0\n",
       "Company               11997\n",
       "Date                      0\n",
       "Location             121248\n",
       "Area                 195787\n",
       "Classification       121248\n",
       "SubClassification    121248\n",
       "Requirement               7\n",
       "FullDescription       16135\n",
       "LowestSalary              0\n",
       "HighestSalary             0\n",
       "JobType               16058\n",
       "AverageSalary             0\n",
       "dtype: int64"
      ]
     },
     "execution_count": 55,
     "metadata": {},
     "output_type": "execute_result"
    }
   ],
   "source": [
    "# Calculate the number of missing values per column\n",
    "missing_data = df.isnull().sum()\n",
    "missing_data"
   ]
  },
  {
   "cell_type": "code",
   "execution_count": 57,
   "id": "04a8ecd9-ff1f-4f28-a0b3-cba0189c45f7",
   "metadata": {},
   "outputs": [
    {
     "data": {
      "image/png": "[encoded data removed]",
      "text/plain": [
       "<Figure size 1000x600 with 1 Axes>"
      ]
     },
     "metadata": {},
     "output_type": "display_data"
    }
   ],
   "source": [
    "# Create a horizontal bar chart\n",
    "plt.figure(figsize=(10, 6)) \n",
    "missing_data.plot(kind='barh', color='orange') \n",
    "plt.title('Missing data in dataset')  \n",
    "plt.xlabel('Columns')  \n",
    "plt.ylabel('Missing data counts') \n",
    "plt.xticks(rotation=45, ha='right') \n",
    "plt.show()  "
   ]
  },
  {
   "cell_type": "code",
   "execution_count": null,
   "id": "0bdd70fd-b637-433e-983a-ee895ea663bf",
   "metadata": {},
   "outputs": [],
   "source": [
    "# git filter-branch --force --index-filter \"git rm --cached --ignore-unmatch data.csv\" --prune-empty --tag-name-filter cat -- --all\n",
    "# git push origin --force --all"
   ]
  }
 ],
 "metadata": {
  "kernelspec": {
   "display_name": "Python 3 (ipykernel)",
   "language": "python",
   "name": "python3"
  },
  "language_info": {
   "codemirror_mode": {
    "name": "ipython",
    "version": 3
   },
   "file_extension": ".py",
   "mimetype": "text/x-python",
   "name": "python",
   "nbconvert_exporter": "python",
   "pygments_lexer": "ipython3",
   "version": "3.9.18"
  }
 },
 "nbformat": 4,
 "nbformat_minor": 5
}
